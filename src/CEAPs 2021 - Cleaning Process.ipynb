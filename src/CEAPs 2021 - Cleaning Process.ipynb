{
 "cells": [
  {
   "cell_type": "markdown",
   "id": "4e76fec3",
   "metadata": {},
   "source": [
    "## Imports"
   ]
  },
  {
   "cell_type": "markdown",
   "id": "a7542cee",
   "metadata": {},
   "source": [
    "## Load data"
   ]
  },
  {
   "cell_type": "code",
   "execution_count": 14,
   "id": "b0c68b20",
   "metadata": {},
   "outputs": [],
   "source": [
    "import pandas as pd\n",
    "import numpy as np\n",
    "\n",
    "import matplotlib.pyplot as plt\n",
    "\n",
    "from datetime import datetime\n",
    "%matplotlib inline"
   ]
  },
  {
   "cell_type": "code",
   "execution_count": 15,
   "id": "bf1eda00",
   "metadata": {},
   "outputs": [],
   "source": [
    "df = pd.read_csv('despesa_ceaps_2021.csv', sep=',', encoding='latin1')"
   ]
  },
  {
   "cell_type": "code",
   "execution_count": 16,
   "id": "a40a4d91",
   "metadata": {},
   "outputs": [
    {
     "data": {
      "text/html": [
       "<div>\n",
       "<style scoped>\n",
       "    .dataframe tbody tr th:only-of-type {\n",
       "        vertical-align: middle;\n",
       "    }\n",
       "\n",
       "    .dataframe tbody tr th {\n",
       "        vertical-align: top;\n",
       "    }\n",
       "\n",
       "    .dataframe thead th {\n",
       "        text-align: right;\n",
       "    }\n",
       "</style>\n",
       "<table border=\"1\" class=\"dataframe\">\n",
       "  <thead>\n",
       "    <tr style=\"text-align: right;\">\n",
       "      <th></th>\n",
       "      <th>ANO</th>\n",
       "      <th>MES</th>\n",
       "      <th>SENADOR</th>\n",
       "      <th>TIPO_DESPESA</th>\n",
       "      <th>CNPJ_CPF</th>\n",
       "      <th>FORNECEDOR</th>\n",
       "      <th>DOCUMENTO</th>\n",
       "      <th>DATA</th>\n",
       "      <th>DETALHAMENTO</th>\n",
       "      <th>VALOR_REEMBOLSADO</th>\n",
       "      <th>COD_DOCUMENTO</th>\n",
       "    </tr>\n",
       "  </thead>\n",
       "  <tbody>\n",
       "    <tr>\n",
       "      <th>0</th>\n",
       "      <td>2021</td>\n",
       "      <td>1</td>\n",
       "      <td>ACIR GURGACZ</td>\n",
       "      <td>Aluguel de imóveis para escritório político, c...</td>\n",
       "      <td>05.914.650/0001-66</td>\n",
       "      <td>ENERGISA</td>\n",
       "      <td>23489627</td>\n",
       "      <td>21/01/2021</td>\n",
       "      <td>Pagamento de energia elétrica para uso do escr...</td>\n",
       "      <td>75,29</td>\n",
       "      <td>2158003</td>\n",
       "    </tr>\n",
       "    <tr>\n",
       "      <th>1</th>\n",
       "      <td>2021</td>\n",
       "      <td>1</td>\n",
       "      <td>ACIR GURGACZ</td>\n",
       "      <td>Aluguel de imóveis para escritório político, c...</td>\n",
       "      <td>062.135.728-64</td>\n",
       "      <td>FERNANDO WALDEIR PACINI e ANA LUCIA DA SILVA S...</td>\n",
       "      <td>01/2021</td>\n",
       "      <td>05/01/2021</td>\n",
       "      <td>Despesa com pagamento de aluguel de imóvel par...</td>\n",
       "      <td>1000</td>\n",
       "      <td>2157367</td>\n",
       "    </tr>\n",
       "    <tr>\n",
       "      <th>2</th>\n",
       "      <td>2021</td>\n",
       "      <td>1</td>\n",
       "      <td>ACIR GURGACZ</td>\n",
       "      <td>Aluguel de imóveis para escritório político, c...</td>\n",
       "      <td>004.948.028-63</td>\n",
       "      <td>GILBERTO PISELO DO NASCIMENTO</td>\n",
       "      <td>001/21</td>\n",
       "      <td>06/01/2021</td>\n",
       "      <td>Despesa com aluguel de imóvel para uso do escr...</td>\n",
       "      <td>6000</td>\n",
       "      <td>2156383</td>\n",
       "    </tr>\n",
       "    <tr>\n",
       "      <th>3</th>\n",
       "      <td>2021</td>\n",
       "      <td>1</td>\n",
       "      <td>ACIR GURGACZ</td>\n",
       "      <td>Divulgação da atividade parlamentar</td>\n",
       "      <td>26.320.603/0001-64</td>\n",
       "      <td>INFORMANAHORA</td>\n",
       "      <td>10</td>\n",
       "      <td>25/01/2021</td>\n",
       "      <td>Divulgação da atividade parlamentar</td>\n",
       "      <td>1500</td>\n",
       "      <td>2154509</td>\n",
       "    </tr>\n",
       "    <tr>\n",
       "      <th>4</th>\n",
       "      <td>2021</td>\n",
       "      <td>1</td>\n",
       "      <td>ACIR GURGACZ</td>\n",
       "      <td>Divulgação da atividade parlamentar</td>\n",
       "      <td>13.659.201/0001-47</td>\n",
       "      <td>LINHA PURPURA FOTO E VIDEO LTDA</td>\n",
       "      <td>44</td>\n",
       "      <td>07/01/2021</td>\n",
       "      <td>Divulgação da atividade parlamentar</td>\n",
       "      <td>6000</td>\n",
       "      <td>2154507</td>\n",
       "    </tr>\n",
       "  </tbody>\n",
       "</table>\n",
       "</div>"
      ],
      "text/plain": [
       "    ANO  MES       SENADOR                                       TIPO_DESPESA  \\\n",
       "0  2021    1  ACIR GURGACZ  Aluguel de imóveis para escritório político, c...   \n",
       "1  2021    1  ACIR GURGACZ  Aluguel de imóveis para escritório político, c...   \n",
       "2  2021    1  ACIR GURGACZ  Aluguel de imóveis para escritório político, c...   \n",
       "3  2021    1  ACIR GURGACZ                Divulgação da atividade parlamentar   \n",
       "4  2021    1  ACIR GURGACZ                Divulgação da atividade parlamentar   \n",
       "\n",
       "             CNPJ_CPF                                         FORNECEDOR  \\\n",
       "0  05.914.650/0001-66                                           ENERGISA   \n",
       "1      062.135.728-64  FERNANDO WALDEIR PACINI e ANA LUCIA DA SILVA S...   \n",
       "2      004.948.028-63                      GILBERTO PISELO DO NASCIMENTO   \n",
       "3  26.320.603/0001-64                                      INFORMANAHORA   \n",
       "4  13.659.201/0001-47                    LINHA PURPURA FOTO E VIDEO LTDA   \n",
       "\n",
       "  DOCUMENTO        DATA                                       DETALHAMENTO  \\\n",
       "0  23489627  21/01/2021  Pagamento de energia elétrica para uso do escr...   \n",
       "1   01/2021  05/01/2021  Despesa com pagamento de aluguel de imóvel par...   \n",
       "2    001/21  06/01/2021  Despesa com aluguel de imóvel para uso do escr...   \n",
       "3        10  25/01/2021                Divulgação da atividade parlamentar   \n",
       "4        44  07/01/2021                Divulgação da atividade parlamentar   \n",
       "\n",
       "  VALOR_REEMBOLSADO  COD_DOCUMENTO  \n",
       "0             75,29        2158003  \n",
       "1              1000        2157367  \n",
       "2              6000        2156383  \n",
       "3              1500        2154509  \n",
       "4              6000        2154507  "
      ]
     },
     "execution_count": 16,
     "metadata": {},
     "output_type": "execute_result"
    }
   ],
   "source": [
    "df.head()"
   ]
  },
  {
   "cell_type": "markdown",
   "id": "80601c99-b3f9-48a5-8dc0-44477d752b5b",
   "metadata": {},
   "source": [
    "## Cleaning data"
   ]
  },
  {
   "cell_type": "code",
   "execution_count": 4,
   "id": "3accd045-d212-4ada-a8fc-cdb5082b5925",
   "metadata": {},
   "outputs": [],
   "source": [
    "columns = ['ANO', 'MES', 'SENADOR', 'DATA', 'VALOR_REEMBOLSADO']"
   ]
  },
  {
   "cell_type": "code",
   "execution_count": 5,
   "id": "04169e39-ee21-4ca8-a82d-37e21f552b1f",
   "metadata": {},
   "outputs": [],
   "source": [
    "df_clean = df[columns]"
   ]
  },
  {
   "cell_type": "code",
   "execution_count": 6,
   "id": "76c5b6dc-b779-4788-a87a-879dec3a09bf",
   "metadata": {},
   "outputs": [
    {
     "name": "stdout",
     "output_type": "stream",
     "text": [
      "<class 'pandas.core.frame.DataFrame'>\n",
      "RangeIndex: 16808 entries, 0 to 16807\n",
      "Data columns (total 5 columns):\n",
      " #   Column             Non-Null Count  Dtype \n",
      "---  ------             --------------  ----- \n",
      " 0   ANO                16808 non-null  int64 \n",
      " 1   MES                16808 non-null  int64 \n",
      " 2   SENADOR            16808 non-null  object\n",
      " 3   DATA               16808 non-null  object\n",
      " 4   VALOR_REEMBOLSADO  16808 non-null  object\n",
      "dtypes: int64(2), object(3)\n",
      "memory usage: 656.7+ KB\n"
     ]
    }
   ],
   "source": [
    "df_clean.info()"
   ]
  },
  {
   "cell_type": "code",
   "execution_count": 7,
   "id": "d1520e90-f200-49cf-b026-a0e43d8216c9",
   "metadata": {},
   "outputs": [],
   "source": [
    "# Apply lowercase to rows\n",
    "df_clean = df_clean.astype(str).apply(lambda x: x.str.lower())"
   ]
  },
  {
   "cell_type": "code",
   "execution_count": 8,
   "id": "ebda5e8d-03d6-490b-ae15-51ea0672dc0a",
   "metadata": {},
   "outputs": [],
   "source": [
    "# Apply lowercase to columns' names\n",
    "df_clean.columns = map(str.lower, df_clean.columns)"
   ]
  },
  {
   "cell_type": "code",
   "execution_count": 9,
   "id": "66bbf871-8003-4d8c-afeb-67f6d6b97153",
   "metadata": {},
   "outputs": [
    {
     "name": "stdout",
     "output_type": "stream",
     "text": [
      "<class 'pandas.core.frame.DataFrame'>\n",
      "RangeIndex: 16808 entries, 0 to 16807\n",
      "Data columns (total 5 columns):\n",
      " #   Column             Non-Null Count  Dtype \n",
      "---  ------             --------------  ----- \n",
      " 0   ano                16808 non-null  object\n",
      " 1   mes                16808 non-null  object\n",
      " 2   senador            16808 non-null  object\n",
      " 3   data               16808 non-null  object\n",
      " 4   valor_reembolsado  16808 non-null  object\n",
      "dtypes: object(5)\n",
      "memory usage: 656.7+ KB\n"
     ]
    }
   ],
   "source": [
    "df_clean.info()"
   ]
  },
  {
   "cell_type": "code",
   "execution_count": 10,
   "id": "12b5735a-5a39-4f00-b749-c4ae647710aa",
   "metadata": {},
   "outputs": [],
   "source": [
    "# Replaces inconvenient punctuation\n",
    "df_clean['valor_reembolsado'] = df_clean['valor_reembolsado'].str.replace(',', '.')\n",
    "df_clean['data'] = df_clean['data'].str.replace('/', '-')"
   ]
  },
  {
   "cell_type": "code",
   "execution_count": 11,
   "id": "107d7ce7-27c7-4a6f-903a-c1529e6cfd87",
   "metadata": {},
   "outputs": [],
   "source": [
    "# Changes datetype\n",
    "df_clean['ano'] = df_clean['ano'].astype(int)\n",
    "df_clean['mes'] = df_clean['mes'].astype(int)\n",
    "df_clean['valor_reembolsado'] = df_clean['valor_reembolsado'].astype(float)\n",
    "df_clean['data'] = datetime.strptime(df_clean['data'][1], '%d-%m-%Y').date()"
   ]
  },
  {
   "cell_type": "code",
   "execution_count": 12,
   "id": "145d397e-7d6c-4f68-9366-a2d26331c84f",
   "metadata": {},
   "outputs": [
    {
     "name": "stdout",
     "output_type": "stream",
     "text": [
      "<class 'pandas.core.frame.DataFrame'>\n",
      "RangeIndex: 16808 entries, 0 to 16807\n",
      "Data columns (total 5 columns):\n",
      " #   Column             Non-Null Count  Dtype  \n",
      "---  ------             --------------  -----  \n",
      " 0   ano                16808 non-null  int64  \n",
      " 1   mes                16808 non-null  int64  \n",
      " 2   senador            16808 non-null  object \n",
      " 3   data               16808 non-null  object \n",
      " 4   valor_reembolsado  16808 non-null  float64\n",
      "dtypes: float64(1), int64(2), object(2)\n",
      "memory usage: 656.7+ KB\n"
     ]
    }
   ],
   "source": [
    "df_clean.info()"
   ]
  },
  {
   "cell_type": "markdown",
   "id": "945c50d8",
   "metadata": {},
   "source": [
    "**********************"
   ]
  },
  {
   "cell_type": "markdown",
   "id": "6545657a",
   "metadata": {},
   "source": [
    "## Clean function"
   ]
  },
  {
   "cell_type": "code",
   "execution_count": 18,
   "id": "7f4ad3d0",
   "metadata": {},
   "outputs": [],
   "source": [
    "def clean_df(df):\n",
    "    columns = ['ANO', 'MES', 'SENADOR', 'VALOR_REEMBOLSADO']\n",
    "    df_clean = df[columns]\n",
    "    \n",
    "    # Apply lowercase to rows\n",
    "    df_clean = df_clean.astype(str).apply(lambda x: x.str.lower())\n",
    "    \n",
    "    # Apply lowercase to columns' names\n",
    "    df_clean.columns = map(str.lower, df_clean.columns)\n",
    "    \n",
    "    # Replaces inconvenient punctuation\n",
    "    df_clean['valor_reembolsado'] = df_clean['valor_reembolsado'].str.replace(',', '.')\n",
    "    \n",
    "    # Changes datetype\n",
    "    df_clean['ano'] = df_clean['ano'].astype(int)\n",
    "    df_clean['mes'] = df_clean['mes'].astype(int)\n",
    "    df_clean['valor_reembolsado'] = df_clean['valor_reembolsado'].astype(float)\n",
    "    \n",
    "    return df_clean.head()"
   ]
  },
  {
   "cell_type": "markdown",
   "id": "4ae0bc6c",
   "metadata": {},
   "source": [
    "## Loading datasets"
   ]
  },
  {
   "cell_type": "code",
   "execution_count": 50,
   "id": "67e9da65",
   "metadata": {},
   "outputs": [],
   "source": [
    "df2 =  pd.read_csv('despesa_ceaps_2020.csv', sep=',', encoding='latin1')\n",
    "df3 =  pd.read_csv('despesa_ceaps_2019.csv', sep=',', encoding='latin1')\n",
    "df4 =  pd.read_csv('despesa_ceaps_2018.csv', sep=',', encoding='latin1')"
   ]
  },
  {
   "cell_type": "code",
   "execution_count": 51,
   "id": "a402dc83",
   "metadata": {},
   "outputs": [],
   "source": [
    "df_2021 = clean_df(df)\n",
    "df_2020 = clean_df(df2)\n",
    "df_2019 = clean_df(df3)\n",
    "df_2018 = clean_df(df4)"
   ]
  },
  {
   "cell_type": "markdown",
   "id": "e9d34880",
   "metadata": {},
   "source": [
    "## Concats dfs"
   ]
  },
  {
   "cell_type": "code",
   "execution_count": 58,
   "id": "bcbebd4f",
   "metadata": {},
   "outputs": [],
   "source": [
    "#df_final = pd.concat([df_2021, df_2020)"
   ]
  },
  {
   "cell_type": "code",
   "execution_count": 60,
   "id": "8ab799e6",
   "metadata": {},
   "outputs": [],
   "source": [
    "#df_final"
   ]
  },
  {
   "cell_type": "code",
   "execution_count": null,
   "id": "017c6aaf",
   "metadata": {},
   "outputs": [],
   "source": []
  }
 ],
 "metadata": {
  "kernelspec": {
   "display_name": "Python 3 (ipykernel)",
   "language": "python",
   "name": "python3"
  },
  "language_info": {
   "codemirror_mode": {
    "name": "ipython",
    "version": 3
   },
   "file_extension": ".py",
   "mimetype": "text/x-python",
   "name": "python",
   "nbconvert_exporter": "python",
   "pygments_lexer": "ipython3",
   "version": "3.9.7"
  }
 },
 "nbformat": 4,
 "nbformat_minor": 5
}
