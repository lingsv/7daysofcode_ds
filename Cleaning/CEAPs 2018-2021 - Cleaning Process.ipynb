{
 "cells": [
  {
   "cell_type": "markdown",
   "id": "4e76fec3",
   "metadata": {},
   "source": [
    "## Imports"
   ]
  },
  {
   "cell_type": "markdown",
   "id": "a7542cee",
   "metadata": {},
   "source": [
    "## Load data"
   ]
  },
  {
   "cell_type": "code",
   "execution_count": 1,
   "id": "b0c68b20",
   "metadata": {},
   "outputs": [],
   "source": [
    "import pandas as pd\n",
    "import numpy as np\n",
    "from unidecode import unidecode"
   ]
  },
  {
   "cell_type": "code",
   "execution_count": 2,
   "id": "bf1eda00",
   "metadata": {},
   "outputs": [],
   "source": [
    "df = pd.read_csv('despesa_ceaps_2021.csv')\n",
    "df2 =  pd.read_csv('despesa_ceaps_2020.csv')\n",
    "df3 =  pd.read_csv('despesa_ceaps_2019.csv')\n",
    "df4 =  pd.read_csv('despesa_ceaps_2018.csv')"
   ]
  },
  {
   "cell_type": "markdown",
   "id": "80601c99-b3f9-48a5-8dc0-44477d752b5b",
   "metadata": {},
   "source": [
    "## Cleaning data"
   ]
  },
  {
   "cell_type": "code",
   "execution_count": 3,
   "id": "3accd045-d212-4ada-a8fc-cdb5082b5925",
   "metadata": {},
   "outputs": [],
   "source": [
    "columns = ['TIPO_DESPESA', 'CNPJ_CPF', 'FORNECEDOR', 'DOCUMENTO', 'DATA', 'DETALHAMENTO', 'COD_DOCUMENTO', 'Unnamed: 11']"
   ]
  },
  {
   "cell_type": "code",
   "execution_count": 5,
   "id": "04169e39-ee21-4ca8-a82d-37e21f552b1f",
   "metadata": {},
   "outputs": [],
   "source": [
    "df_clean = df.drop(columns=columns, axis=1)\n",
    "df_clean2 = df2.drop(columns=columns, axis=1)\n",
    "df_clean3 = df3.drop(columns=columns, axis=1)\n",
    "df_clean4 = df4.drop(columns=columns, axis=1)"
   ]
  },
  {
   "cell_type": "code",
   "execution_count": 7,
   "id": "76c5b6dc-b779-4788-a87a-879dec3a09bf",
   "metadata": {},
   "outputs": [
    {
     "name": "stdout",
     "output_type": "stream",
     "text": [
      "<class 'pandas.core.frame.DataFrame'>\n",
      "RangeIndex: 16808 entries, 0 to 16807\n",
      "Data columns (total 4 columns):\n",
      " #   Column             Non-Null Count  Dtype \n",
      "---  ------             --------------  ----- \n",
      " 0   ANO                16808 non-null  int64 \n",
      " 1   MES                16808 non-null  int64 \n",
      " 2   SENADOR            16808 non-null  object\n",
      " 3   VALOR_REEMBOLSADO  16807 non-null  object\n",
      "dtypes: int64(2), object(2)\n",
      "memory usage: 525.4+ KB\n"
     ]
    }
   ],
   "source": [
    "df_clean.info()"
   ]
  },
  {
   "cell_type": "code",
   "execution_count": 6,
   "id": "d1520e90-f200-49cf-b026-a0e43d8216c9",
   "metadata": {},
   "outputs": [],
   "source": [
    "# Apply lowercase to rows\n",
    "df_clean = df_clean.astype(str).apply(lambda x: x.str.lower())\n",
    "df_clean2 = df_clean2.astype(str).apply(lambda x: x.str.lower())\n",
    "df_clean3 = df_clean3.astype(str).apply(lambda x: x.str.lower())\n",
    "df_clean4 = df_clean4.astype(str).apply(lambda x: x.str.lower())"
   ]
  },
  {
   "cell_type": "code",
   "execution_count": 9,
   "id": "ebda5e8d-03d6-490b-ae15-51ea0672dc0a",
   "metadata": {},
   "outputs": [],
   "source": [
    "# Apply lowercase to columns' names\n",
    "df_clean.columns = map(str.lower, df_clean.columns)\n",
    "df_clean2.columns = map(str.lower, df_clean2.columns)\n",
    "df_clean3.columns = map(str.lower, df_clean3.columns)\n",
    "df_clean4.columns = map(str.lower, df_clean4.columns)\n"
   ]
  },
  {
   "cell_type": "code",
   "execution_count": 10,
   "id": "66bbf871-8003-4d8c-afeb-67f6d6b97153",
   "metadata": {},
   "outputs": [
    {
     "name": "stdout",
     "output_type": "stream",
     "text": [
      "<class 'pandas.core.frame.DataFrame'>\n",
      "RangeIndex: 16808 entries, 0 to 16807\n",
      "Data columns (total 4 columns):\n",
      " #   Column             Non-Null Count  Dtype \n",
      "---  ------             --------------  ----- \n",
      " 0   ano                16808 non-null  object\n",
      " 1   mes                16808 non-null  object\n",
      " 2   senador            16808 non-null  object\n",
      " 3   valor_reembolsado  16808 non-null  object\n",
      "dtypes: object(4)\n",
      "memory usage: 525.4+ KB\n"
     ]
    }
   ],
   "source": [
    "df_clean.info()"
   ]
  },
  {
   "cell_type": "code",
   "execution_count": 11,
   "id": "12b5735a-5a39-4f00-b749-c4ae647710aa",
   "metadata": {},
   "outputs": [],
   "source": [
    "# Replaces inconvenient punctuation\n",
    "df_clean['valor_reembolsado'] = df_clean['valor_reembolsado'].str.replace(',', '.')\n",
    "df_clean2['valor_reembolsado'] = df_clean2['valor_reembolsado'].str.replace(',', '.')\n",
    "df_clean3['valor_reembolsado'] = df_clean3['valor_reembolsado'].str.replace(',', '.')\n",
    "df_clean4['valor_reembolsado'] = df_clean4['valor_reembolsado'].str.replace(',', '.')\n"
   ]
  },
  {
   "cell_type": "code",
   "execution_count": 13,
   "id": "107d7ce7-27c7-4a6f-903a-c1529e6cfd87",
   "metadata": {},
   "outputs": [],
   "source": [
    "# Changes datetype\n",
    "df_clean['ano'] = df_clean['ano'].astype(int)\n",
    "df_clean['mes'] = df_clean['mes'].astype(int)\n",
    "\n",
    "df_clean2['ano'] = df_clean2['ano'].astype(int)\n",
    "df_clean2['mes'] = df_clean2['mes'].astype(int)\n",
    "\n",
    "df_clean3['ano'] = df_clean3['ano'].astype(int)\n",
    "df_clean3['mes'] = df_clean3['mes'].astype(int)\n",
    "\n",
    "df_clean4['ano'] = df_clean4['ano'].astype(int)\n",
    "df_clean4['mes'] = df_clean4['mes'].astype(int)\n",
    "                                         \n",
    "                                         \n"
   ]
  },
  {
   "cell_type": "code",
   "execution_count": 14,
   "id": "145d397e-7d6c-4f68-9366-a2d26331c84f",
   "metadata": {},
   "outputs": [
    {
     "name": "stdout",
     "output_type": "stream",
     "text": [
      "<class 'pandas.core.frame.DataFrame'>\n",
      "RangeIndex: 16808 entries, 0 to 16807\n",
      "Data columns (total 4 columns):\n",
      " #   Column             Non-Null Count  Dtype \n",
      "---  ------             --------------  ----- \n",
      " 0   ano                16808 non-null  int64 \n",
      " 1   mes                16808 non-null  int64 \n",
      " 2   senador            16808 non-null  object\n",
      " 3   valor_reembolsado  16808 non-null  object\n",
      "dtypes: int64(2), object(2)\n",
      "memory usage: 525.4+ KB\n"
     ]
    }
   ],
   "source": [
    "df_clean.info()"
   ]
  },
  {
   "cell_type": "code",
   "execution_count": 15,
   "id": "46b9b739",
   "metadata": {},
   "outputs": [],
   "source": [
    "# Cleans pt-br marks on names\n",
    "df_clean['senador'] = df_clean['senador'].apply(unidecode)\n",
    "df_clean2['senador'] = df_clean2['senador'].apply(unidecode)\n",
    "df_clean3['senador'] = df_clean3['senador'].apply(unidecode)\n",
    "df_clean4['senador'] = df_clean4['senador'].apply(unidecode)"
   ]
  },
  {
   "cell_type": "code",
   "execution_count": 16,
   "id": "0270e8df",
   "metadata": {},
   "outputs": [
    {
     "data": {
      "text/plain": [
       "0            acir gurgacz\n",
       "1            acir gurgacz\n",
       "2            acir gurgacz\n",
       "3            acir gurgacz\n",
       "4            acir gurgacz\n",
       "               ...       \n",
       "16803    zequinha marinho\n",
       "16804    zequinha marinho\n",
       "16805    zequinha marinho\n",
       "16806    zequinha marinho\n",
       "16807    zequinha marinho\n",
       "Name: senador, Length: 16808, dtype: object"
      ]
     },
     "execution_count": 16,
     "metadata": {},
     "output_type": "execute_result"
    }
   ],
   "source": [
    "df_clean['senador']"
   ]
  },
  {
   "cell_type": "markdown",
   "id": "945c50d8",
   "metadata": {},
   "source": [
    "**********************"
   ]
  },
  {
   "cell_type": "markdown",
   "id": "4ae0bc6c",
   "metadata": {},
   "source": [
    "## Loading datasets"
   ]
  },
  {
   "cell_type": "code",
   "execution_count": 17,
   "id": "a402dc83",
   "metadata": {
    "scrolled": true
   },
   "outputs": [],
   "source": [
    "df_2021 = df_clean\n",
    "df_2020 = df_clean2\n",
    "df_2019 = df_clean3\n",
    "df_2018 = df_clean4"
   ]
  },
  {
   "cell_type": "markdown",
   "id": "e9d34880",
   "metadata": {},
   "source": [
    "## Concats dfs"
   ]
  },
  {
   "cell_type": "code",
   "execution_count": 18,
   "id": "bcbebd4f",
   "metadata": {},
   "outputs": [],
   "source": [
    "df_final = pd.concat([df_2021, df_2020, df_2019, df_2018])"
   ]
  },
  {
   "cell_type": "code",
   "execution_count": 20,
   "id": "8ab799e6",
   "metadata": {
    "scrolled": true
   },
   "outputs": [
    {
     "data": {
      "text/plain": [
       "ano    mes    senador  valor_reembolsado  unnamed: 12  unnamed: 13  unnamed: 14  unnamed: 15\n",
       "False  False  False    False              True         True         True         True           55390\n",
       "                                          False        False        False        False          21634\n",
       "dtype: int64"
      ]
     },
     "execution_count": 20,
     "metadata": {},
     "output_type": "execute_result"
    }
   ],
   "source": [
    "df_final.isna().value_counts()"
   ]
  },
  {
   "cell_type": "code",
   "execution_count": 22,
   "id": "5db40259",
   "metadata": {},
   "outputs": [],
   "source": [
    "df_final = df_final.drop(columns=['unnamed: 12', 'unnamed: 13', 'unnamed: 14', 'unnamed: 15'])"
   ]
  },
  {
   "cell_type": "code",
   "execution_count": 24,
   "id": "632823b6",
   "metadata": {},
   "outputs": [],
   "source": [
    "df_final.to_csv('base_final_gastos_parlamentares.csv', sep='\\t', encoding='utf-8', index=None)"
   ]
  },
  {
   "cell_type": "code",
   "execution_count": 25,
   "id": "203c8f7e",
   "metadata": {},
   "outputs": [],
   "source": [
    "df_teste = pd.read_csv('base_final_gastos_parlamentares.csv', sep='\\t', encoding='utf-8')"
   ]
  },
  {
   "cell_type": "code",
   "execution_count": 26,
   "id": "aade6af7",
   "metadata": {},
   "outputs": [
    {
     "data": {
      "text/html": [
       "<div>\n",
       "<style scoped>\n",
       "    .dataframe tbody tr th:only-of-type {\n",
       "        vertical-align: middle;\n",
       "    }\n",
       "\n",
       "    .dataframe tbody tr th {\n",
       "        vertical-align: top;\n",
       "    }\n",
       "\n",
       "    .dataframe thead th {\n",
       "        text-align: right;\n",
       "    }\n",
       "</style>\n",
       "<table border=\"1\" class=\"dataframe\">\n",
       "  <thead>\n",
       "    <tr style=\"text-align: right;\">\n",
       "      <th></th>\n",
       "      <th>ano</th>\n",
       "      <th>mes</th>\n",
       "      <th>senador</th>\n",
       "      <th>valor_reembolsado</th>\n",
       "    </tr>\n",
       "  </thead>\n",
       "  <tbody>\n",
       "    <tr>\n",
       "      <th>0</th>\n",
       "      <td>2021</td>\n",
       "      <td>1</td>\n",
       "      <td>acir gurgacz</td>\n",
       "      <td>75.29</td>\n",
       "    </tr>\n",
       "    <tr>\n",
       "      <th>1</th>\n",
       "      <td>2021</td>\n",
       "      <td>1</td>\n",
       "      <td>acir gurgacz</td>\n",
       "      <td>1000</td>\n",
       "    </tr>\n",
       "    <tr>\n",
       "      <th>2</th>\n",
       "      <td>2021</td>\n",
       "      <td>1</td>\n",
       "      <td>acir gurgacz</td>\n",
       "      <td>6000</td>\n",
       "    </tr>\n",
       "    <tr>\n",
       "      <th>3</th>\n",
       "      <td>2021</td>\n",
       "      <td>1</td>\n",
       "      <td>acir gurgacz</td>\n",
       "      <td>1500</td>\n",
       "    </tr>\n",
       "    <tr>\n",
       "      <th>4</th>\n",
       "      <td>2021</td>\n",
       "      <td>1</td>\n",
       "      <td>acir gurgacz</td>\n",
       "      <td>6000</td>\n",
       "    </tr>\n",
       "    <tr>\n",
       "      <th>...</th>\n",
       "      <td>...</td>\n",
       "      <td>...</td>\n",
       "      <td>...</td>\n",
       "      <td>...</td>\n",
       "    </tr>\n",
       "    <tr>\n",
       "      <th>77019</th>\n",
       "      <td>2018</td>\n",
       "      <td>12</td>\n",
       "      <td>zeze perrella</td>\n",
       "      <td>220.05</td>\n",
       "    </tr>\n",
       "    <tr>\n",
       "      <th>77020</th>\n",
       "      <td>2018</td>\n",
       "      <td>12</td>\n",
       "      <td>zeze perrella</td>\n",
       "      <td>73.02</td>\n",
       "    </tr>\n",
       "    <tr>\n",
       "      <th>77021</th>\n",
       "      <td>2018</td>\n",
       "      <td>12</td>\n",
       "      <td>zeze perrella</td>\n",
       "      <td>232.01</td>\n",
       "    </tr>\n",
       "    <tr>\n",
       "      <th>77022</th>\n",
       "      <td>2018</td>\n",
       "      <td>12</td>\n",
       "      <td>zeze perrella</td>\n",
       "      <td>1132.69</td>\n",
       "    </tr>\n",
       "    <tr>\n",
       "      <th>77023</th>\n",
       "      <td>2018</td>\n",
       "      <td>12</td>\n",
       "      <td>zeze perrella</td>\n",
       "      <td>1260.45</td>\n",
       "    </tr>\n",
       "  </tbody>\n",
       "</table>\n",
       "<p>77024 rows × 4 columns</p>\n",
       "</div>"
      ],
      "text/plain": [
       "        ano  mes        senador valor_reembolsado\n",
       "0      2021    1   acir gurgacz             75.29\n",
       "1      2021    1   acir gurgacz              1000\n",
       "2      2021    1   acir gurgacz              6000\n",
       "3      2021    1   acir gurgacz              1500\n",
       "4      2021    1   acir gurgacz              6000\n",
       "...     ...  ...            ...               ...\n",
       "77019  2018   12  zeze perrella            220.05\n",
       "77020  2018   12  zeze perrella             73.02\n",
       "77021  2018   12  zeze perrella            232.01\n",
       "77022  2018   12  zeze perrella           1132.69\n",
       "77023  2018   12  zeze perrella           1260.45\n",
       "\n",
       "[77024 rows x 4 columns]"
      ]
     },
     "execution_count": 26,
     "metadata": {},
     "output_type": "execute_result"
    }
   ],
   "source": [
    "df_teste"
   ]
  },
  {
   "cell_type": "code",
   "execution_count": null,
   "id": "6fe99759",
   "metadata": {},
   "outputs": [],
   "source": []
  }
 ],
 "metadata": {
  "kernelspec": {
   "display_name": "Python 3 (ipykernel)",
   "language": "python",
   "name": "python3"
  },
  "language_info": {
   "codemirror_mode": {
    "name": "ipython",
    "version": 3
   },
   "file_extension": ".py",
   "mimetype": "text/x-python",
   "name": "python",
   "nbconvert_exporter": "python",
   "pygments_lexer": "ipython3",
   "version": "3.9.7"
  }
 },
 "nbformat": 4,
 "nbformat_minor": 5
}
